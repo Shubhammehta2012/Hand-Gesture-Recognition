{
 "cells": [
  {
   "cell_type": "markdown",
   "metadata": {},
   "source": [
    "# Project-3 Hand Gesture Recognition\n",
    "Developed By:- \n",
    "Bansari Barot,\n",
    "Bhavik Thummar,\n",
    "Shubham Mehta,\n",
    "Pratyush Panda\n",
    "\n"
   ]
  },
  {
   "cell_type": "markdown",
   "metadata": {},
   "source": [
    "# Libraries and technologies used:\n",
    "Keras Sequential Model, cv2, OpenCV, numpy, matplotlib"
   ]
  },
  {
   "cell_type": "markdown",
   "metadata": {},
   "source": [
    "# Data Set: Sebastien Marcel Static Hand Posture Database"
   ]
  },
  {
   "cell_type": "code",
   "execution_count": 1,
   "metadata": {},
   "outputs": [
    {
     "name": "stderr",
     "output_type": "stream",
     "text": [
      "Using TensorFlow backend.\n"
     ]
    }
   ],
   "source": [
    "import numpy as np\n",
    "import matplotlib.pylab as plt\n",
    "\n",
    "# import keras and its sub-libraries useful for us\n",
    "import keras\n",
    "from keras import regularizers\n",
    "from keras.datasets import mnist\n",
    "from keras.models import Sequential\n",
    "from keras.layers import Conv2D, MaxPooling2D\n",
    "from keras.layers import Dense, Dropout, Flatten\n",
    "from keras.callbacks import TensorBoard"
   ]
  },
  {
   "cell_type": "markdown",
   "metadata": {},
   "source": [
    "# Preprocessing of the dataset"
   ]
  },
  {
   "cell_type": "code",
   "execution_count": 2,
   "metadata": {
    "collapsed": true
   },
   "outputs": [],
   "source": [
    "# number of images used for calculating gradient\n",
    "batch_size = 32\n",
    "\n",
    "# number of loops over the whole training data \n",
    "epochs = 15\n",
    "num_classes = 6\n",
    "\n",
    "#Image size for resizing\n",
    "img_size = 60\n",
    "\n",
    "# input image dimensions\n",
    "width = img_size\n",
    "height = img_size\n",
    "\n",
    "import os\n",
    "path_A = \"C:\\\\Users\\\\ppanda\\\\Desktop\\\\ML\\\\project3\\\\Data\\\\Marcel-Train\\\\A\"\n",
    "path_B = \"C:\\\\Users\\\\ppanda\\\\Desktop\\\\ML\\\\project3\\\\Data\\\\Marcel-Train\\\\B\"\n",
    "path_C = \"C:\\\\Users\\\\ppanda\\\\Desktop\\\\ML\\\\project3\\\\Data\\\\Marcel-Train\\\\C\"\n",
    "path_Five = \"C:\\\\Users\\\\ppanda\\\\Desktop\\\\ML\\\\project3\\\\Data\\\\Marcel-Train\\\\Five\"\n",
    "path_Point = \"C:\\\\Users\\\\ppanda\\\\Desktop\\\\ML\\\\project3\\\\Data\\\\Marcel-Train\\\\Point\"\n",
    "path_V = \"C:\\\\Users\\\\ppanda\\\\Desktop\\\\ML\\\\project3\\\\Data\\\\Marcel-Train\\\\V\"\n",
    "\n",
    "imlist_A = os.listdir(path_A)\n",
    "imlist_B = os.listdir(path_B)\n",
    "imlist_C = os.listdir(path_C)\n",
    "imlist_Five = os.listdir(path_Five)\n",
    "imlist_Point = os.listdir(path_Point)\n",
    "imlist_V = os.listdir(path_V)"
   ]
  },
  {
   "cell_type": "code",
   "execution_count": 3,
   "metadata": {
    "collapsed": true
   },
   "outputs": [],
   "source": [
    "from numpy import *\n",
    "import numpy as np\n",
    "import cv2\n",
    "XX = []\n",
    "yy = []\n",
    "y = []\n",
    "\n",
    "for i in imlist_A:\n",
    "    img = cv2.imread(path_A + '\\\\' + i)\n",
    "    img_gray = cv2.cvtColor(img,cv2.COLOR_BGR2GRAY)\n",
    "    img_gray = cv2.resize(img_gray,(img_size,img_size))\n",
    "    name = i.split('-')\n",
    "    XX.append(np.array(img_gray))   #append([label, umg]\n",
    "    y.append(name[0])\n",
    "    yy.append([1, 0, 0, 0, 0, 0])\n",
    "\n",
    "for i in imlist_B:\n",
    "    img = cv2.imread(path_B + '\\\\' + i)\n",
    "    img_gray = cv2.cvtColor(img,cv2.COLOR_BGR2GRAY)\n",
    "    img_gray = cv2.resize(img_gray,(img_size,img_size))\n",
    "    name = i.split('-')\n",
    "    XX.append(np.array(img_gray))   #append([label, umg]\n",
    "    y.append(name[0])\n",
    "    yy.append([0, 1, 0, 0, 0, 0])\n",
    "    \n",
    "for i in imlist_C:\n",
    "    img = cv2.imread(path_C + '\\\\' + i)\n",
    "    img_gray = cv2.cvtColor(img,cv2.COLOR_BGR2GRAY)\n",
    "    img_gray = cv2.resize(img_gray,(img_size,img_size))\n",
    "    name = i.split('-')\n",
    "    XX.append(np.array(img_gray))   #append([label, umg]\n",
    "    y.append(name[0])\n",
    "    yy.append([0, 0, 1, 0, 0, 0])\n",
    "    \n",
    "for i in imlist_Five:\n",
    "    img = cv2.imread(path_Five + '\\\\' + i)\n",
    "    img_gray = cv2.cvtColor(img,cv2.COLOR_BGR2GRAY)\n",
    "    img_gray = cv2.resize(img_gray,(img_size,img_size))\n",
    "    name = i.split('-')\n",
    "    XX.append(np.array(img_gray))   #append([label, umg]\n",
    "    y.append(name[0])\n",
    "    yy.append([0, 0, 0, 1, 0, 0])\n",
    "    \n",
    "for i in imlist_Point:\n",
    "    img = cv2.imread(path_Point + '\\\\' + i)\n",
    "    img_gray = cv2.cvtColor(img,cv2.COLOR_BGR2GRAY)\n",
    "    img_gray = cv2.resize(img_gray,(img_size,img_size))\n",
    "    name = i.split('-')\n",
    "    XX.append(np.array(img_gray))   #append([label, umg]\n",
    "    y.append(name[0])\n",
    "    yy.append([0, 0, 0, 0, 1, 0])\n",
    "    \n",
    "for i in imlist_V:\n",
    "    img = cv2.imread(path_V + '\\\\' + i)\n",
    "    img_gray = cv2.cvtColor(img,cv2.COLOR_BGR2GRAY)\n",
    "    name = i.split('-')\n",
    "    img_gray = cv2.resize(img_gray,(img_size,img_size))\n",
    "    XX.append(np.array(img_gray))   #append([label, umg]\n",
    "    y.append(name[0])\n",
    "    yy.append([0, 0, 0, 0, 0, 1])\n",
    "    \n",
    "from sklearn.utils import shuffle\n",
    "XX,yy,y = shuffle(XX, yy, y, random_state=42)"
   ]
  },
  {
   "cell_type": "code",
   "execution_count": 4,
   "metadata": {
    "collapsed": true
   },
   "outputs": [],
   "source": [
    "import os\n",
    "from numpy import *\n",
    "import numpy as np\n",
    "import cv2\n",
    "\n",
    "path_A_test_uniform = \"C:\\\\Users\\\\ppanda\\\\Desktop\\\\ML\\\\project3\\\\Data\\\\Marcel-Test\\\\A\\\\uniform\"\n",
    "path_B_test_uniform = \"C:\\\\Users\\\\ppanda\\\\Desktop\\\\ML\\\\project3\\\\Data\\\\Marcel-Test\\\\B\\\\uniform\"\n",
    "path_C_test_uniform = \"C:\\\\Users\\\\ppanda\\\\Desktop\\\\ML\\\\project3\\\\Data\\\\Marcel-Test\\\\C\\\\uniform\"\n",
    "path_Five_test_uniform = \"C:\\\\Users\\\\ppanda\\\\Desktop\\\\ML\\\\project3\\\\Data\\\\Marcel-Test\\\\Five\\\\uniform\"\n",
    "path_Point_test_uniform = \"C:\\\\Users\\\\ppanda\\\\Desktop\\\\ML\\\\project3\\\\Data\\\\Marcel-Test\\\\Point\\\\uniform\"\n",
    "path_V_test_uniform = \"C:\\\\Users\\\\ppanda\\\\Desktop\\\\ML\\\\project3\\\\Data\\\\Marcel-Test\\\\V\\\\uniform\"\n",
    "\n",
    "imlist_A_test_uniform = os.listdir(path_A_test_uniform)\n",
    "imlist_B_test_uniform = os.listdir(path_B_test_uniform)\n",
    "imlist_C_test_uniform = os.listdir(path_C_test_uniform)\n",
    "imlist_Five_test_uniform = os.listdir(path_Five_test_uniform)\n",
    "imlist_Point_test_uniform = os.listdir(path_Point_test_uniform)\n",
    "imlist_V_test_uniform = os.listdir(path_V_test_uniform)\n",
    "\n",
    "XX_test_uniform = []\n",
    "yy_test_uniform = []\n",
    "y_test_uniform = []\n",
    "#img_size = 128\n",
    "'''\n",
    "1, 0, 0, 0, 0, 0  - A\n",
    "0, 1, 0, 0, 0, 0-  B\n",
    "0, 0, 1, 0, 0, 0- C\n",
    "0, 0, 0, 1, 0, 0- FIVE\n",
    "0, 0, 0, 0, 1, 0- POINT\n",
    "0, 0, 0, 0, 0, 1-V\n",
    "'''\n",
    "for i in imlist_A_test_uniform:\n",
    "    img = cv2.imread(path_A_test_uniform + '\\\\' + i)\n",
    "    img_gray = cv2.cvtColor(img,cv2.COLOR_BGR2GRAY)\n",
    "    img_gray = cv2.resize(img_gray,(img_size,img_size))\n",
    "    name = i.split('-')\n",
    "    XX_test_uniform.append(np.array(img_gray))   #append([label, umg]\n",
    "    y_test_uniform.append(name[0])\n",
    "    yy_test_uniform.append([1, 0, 0, 0, 0, 0])\n",
    "\n",
    "for i in imlist_B_test_uniform:\n",
    "    img = cv2.imread(path_B_test_uniform + '\\\\' + i)\n",
    "    img_gray = cv2.cvtColor(img,cv2.COLOR_BGR2GRAY)\n",
    "    img_gray = cv2.resize(img_gray,(img_size,img_size))\n",
    "    name = i.split('-')\n",
    "    XX_test_uniform.append(np.array(img_gray))   #append([label, umg]\n",
    "    y_test_uniform.append(name[0])\n",
    "    yy_test_uniform.append([0, 1, 0, 0, 0, 0])\n",
    "    \n",
    "for i in imlist_C_test_uniform:\n",
    "    img = cv2.imread(path_C_test_uniform + '\\\\' + i)\n",
    "    img_gray = cv2.cvtColor(img,cv2.COLOR_BGR2GRAY)\n",
    "    img_gray = cv2.resize(img_gray,(img_size,img_size))\n",
    "    name = i.split('-')\n",
    "    XX_test_uniform.append(np.array(img_gray))   #append([label, umg]\n",
    "    y_test_uniform.append(name[0])\n",
    "    yy_test_uniform.append([0, 0, 1, 0, 0, 0])\n",
    "    \n",
    "for i in imlist_Five_test_uniform:\n",
    "    img = cv2.imread(path_Five_test_uniform + '\\\\' + i)\n",
    "    img_gray = cv2.cvtColor(img,cv2.COLOR_BGR2GRAY)\n",
    "    img_gray = cv2.resize(img_gray,(img_size,img_size))\n",
    "    name = i.split('-')\n",
    "    XX_test_uniform.append(np.array(img_gray))   #append([label, umg]\n",
    "    y_test_uniform.append(name[0])\n",
    "    yy_test_uniform.append([0, 0, 0, 1, 0, 0])\n",
    "    \n",
    "for i in imlist_Point_test_uniform:\n",
    "    img = cv2.imread(path_Point_test_uniform + '\\\\' + i)\n",
    "    img_gray = cv2.cvtColor(img,cv2.COLOR_BGR2GRAY)\n",
    "    img_gray = cv2.resize(img_gray,(img_size,img_size))\n",
    "    name = i.split('-')\n",
    "    XX_test_uniform.append(np.array(img_gray))   #append([label, umg]\n",
    "    y_test_uniform.append(name[0])\n",
    "    yy_test_uniform.append([0, 0, 0, 0, 1, 0])\n",
    "    \n",
    "for i in imlist_V_test_uniform:\n",
    "    img = cv2.imread(path_V_test_uniform + '\\\\' + i)\n",
    "    img_gray = cv2.cvtColor(img,cv2.COLOR_BGR2GRAY)\n",
    "    name = i.split('-')\n",
    "    img_gray = cv2.resize(img_gray,(img_size,img_size))\n",
    "    XX_test_uniform.append(np.array(img_gray))   #append([label, umg]\n",
    "    y_test_uniform.append(name[0])\n",
    "    yy_test_uniform.append([0, 0, 0, 0, 0, 1])\n",
    "    \n",
    "XX_test_uniform,yy_test_uniform,y_test_uniform = shuffle(XX_test_uniform, yy_test_uniform, y_test_uniform, random_state=12)\n",
    "XX_test_uniform = np.array(XX_test_uniform)\n",
    "yy_test_uniform = np.array(yy_test_uniform)\n",
    "\n",
    "\n",
    "X_test_uniform = XX_test_uniform.reshape(XX_test_uniform.shape[0], height, width, 1)/255.0"
   ]
  },
  {
   "cell_type": "code",
   "execution_count": 5,
   "metadata": {
    "collapsed": true
   },
   "outputs": [],
   "source": [
    "import os\n",
    "from numpy import *\n",
    "import numpy as np\n",
    "import cv2\n",
    "\n",
    "path_A_test_complex = \"C:\\\\Users\\\\ppanda\\\\Desktop\\\\ML\\\\project3\\\\Data\\\\Marcel-Test\\\\A\\\\complex\"\n",
    "path_B_test_complex = \"C:\\\\Users\\\\ppanda\\\\Desktop\\\\ML\\\\project3\\\\Data\\\\Marcel-Test\\\\B\\\\complex\"\n",
    "path_C_test_complex = \"C:\\\\Users\\\\ppanda\\\\Desktop\\\\ML\\\\project3\\\\Data\\\\Marcel-Test\\\\C\\\\complex\"\n",
    "path_Five_test_complex = \"C:\\\\Users\\\\ppanda\\\\Desktop\\\\ML\\\\project3\\\\Data\\\\Marcel-Test\\\\Five\\\\complex\"\n",
    "path_Point_test_complex = \"C:\\\\Users\\\\ppanda\\\\Desktop\\\\ML\\\\project3\\\\Data\\\\Marcel-Test\\\\Point\\\\complex\"\n",
    "path_V_test_complex = \"C:\\\\Users\\\\ppanda\\\\Desktop\\\\ML\\\\project3\\\\Data\\\\Marcel-Test\\\\V\\\\complex\"\n",
    "\n",
    "imlist_A_test_complex = os.listdir(path_A_test_complex)\n",
    "imlist_B_test_complex = os.listdir(path_B_test_complex)\n",
    "imlist_C_test_complex = os.listdir(path_C_test_complex)\n",
    "imlist_Five_test_complex = os.listdir(path_Five_test_complex)\n",
    "imlist_Point_test_complex = os.listdir(path_Point_test_complex)\n",
    "imlist_V_test_complex = os.listdir(path_V_test_complex)\n",
    "\n",
    "XX_test_complex = []\n",
    "yy_test_complex = []\n",
    "y_test_complex = []\n",
    "#img_size = 128   # comment out when put in real code\n",
    "\n",
    "'''\n",
    "1, 0, 0, 0, 0, 0  - A\n",
    "0, 1, 0, 0, 0, 0-  B\n",
    "0, 0, 1, 0, 0, 0- C\n",
    "0, 0, 0, 1, 0, 0- FIVE\n",
    "0, 0, 0, 0, 1, 0- POINT\n",
    "0, 0, 0, 0, 0, 1-V\n",
    "'''\n",
    "for i in imlist_A_test_complex:\n",
    "    img = cv2.imread(path_A_test_complex + '\\\\' + i)\n",
    "    img_gray = cv2.cvtColor(img,cv2.COLOR_BGR2GRAY)\n",
    "    img_gray = cv2.resize(img_gray,(img_size,img_size))\n",
    "    name = i.split('-')\n",
    "    XX_test_complex.append(np.array(img_gray))   #append([label, umg]\n",
    "    y_test_complex.append(name[0])\n",
    "    yy_test_complex.append([1, 0, 0, 0, 0, 0])\n",
    "\n",
    "for i in imlist_B_test_complex:\n",
    "    img = cv2.imread(path_B_test_complex + '\\\\' + i)\n",
    "    img_gray = cv2.cvtColor(img,cv2.COLOR_BGR2GRAY)\n",
    "    img_gray = cv2.resize(img_gray,(img_size,img_size))\n",
    "    name = i.split('-')\n",
    "    XX_test_complex.append(np.array(img_gray))   #append([label, umg]\n",
    "    y_test_complex.append(name[0])\n",
    "    yy_test_complex.append([0, 1, 0, 0, 0, 0])\n",
    "    \n",
    "for i in imlist_C_test_complex:\n",
    "    img = cv2.imread(path_C_test_complex + '\\\\' + i)\n",
    "    img_gray = cv2.cvtColor(img,cv2.COLOR_BGR2GRAY)\n",
    "    img_gray = cv2.resize(img_gray,(img_size,img_size))\n",
    "    name = i.split('-')\n",
    "    XX_test_complex.append(np.array(img_gray))   #append([label, umg]\n",
    "    y_test_complex.append(name[0])\n",
    "    yy_test_complex.append([0, 0, 1, 0, 0, 0])\n",
    "    \n",
    "for i in imlist_Five_test_complex:\n",
    "    img = cv2.imread(path_Five_test_complex + '\\\\' + i)\n",
    "    img_gray = cv2.cvtColor(img,cv2.COLOR_BGR2GRAY)\n",
    "    img_gray = cv2.resize(img_gray,(img_size,img_size))\n",
    "    name = i.split('-')\n",
    "    XX_test_complex.append(np.array(img_gray))   #append([label, umg]\n",
    "    y_test_complex.append(name[0])\n",
    "    yy_test_complex.append([0, 0, 0, 1, 0, 0])\n",
    "    \n",
    "for i in imlist_Point_test_complex:\n",
    "    img = cv2.imread(path_Point_test_complex + '\\\\' + i)\n",
    "    img_gray = cv2.cvtColor(img,cv2.COLOR_BGR2GRAY)\n",
    "    img_gray = cv2.resize(img_gray,(img_size,img_size))\n",
    "    name = i.split('-')\n",
    "    XX_test_complex.append(np.array(img_gray))   #append([label, umg]\n",
    "    y_test_complex.append(name[0])\n",
    "    yy_test_complex.append([0, 0, 0, 0, 1, 0])\n",
    "    \n",
    "for i in imlist_V_test_complex:\n",
    "    img = cv2.imread(path_V_test_complex + '\\\\' + i)\n",
    "    img_gray = cv2.cvtColor(img,cv2.COLOR_BGR2GRAY)\n",
    "    name = i.split('-')\n",
    "    img_gray = cv2.resize(img_gray,(img_size,img_size))\n",
    "    XX_test_complex.append(np.array(img_gray))   #append([label, umg]\n",
    "    y_test_complex.append(name[0])\n",
    "    yy_test_complex.append([0, 0, 0, 0, 0, 1])\n",
    "    \n",
    "XX_test_complex,yy_test_complex,y_test_complex = shuffle(XX_test_complex, yy_test_complex, y_test_complex, random_state=12)\n",
    "XX_test_complex = np.array(XX_test_complex)\n",
    "yy_test_complex = np.array(yy_test_complex)\n",
    "\n",
    "X_test_complex = XX_test_complex.reshape(XX_test_complex.shape[0], height, width, 1)/255.0"
   ]
  },
  {
   "cell_type": "code",
   "execution_count": 6,
   "metadata": {},
   "outputs": [
    {
     "name": "stdout",
     "output_type": "stream",
     "text": [
      "4384 488 4384 488\n",
      "(4384, 60, 60) (488, 60, 60)\n",
      "(4384, 6) (488, 6)\n",
      "(4384, 60, 60, 1) (488, 60, 60, 1)\n",
      "(4384, 6)\n"
     ]
    }
   ],
   "source": [
    "from sklearn .model_selection import train_test_split\n",
    "XX = np.array(XX)\n",
    "yy = np.array(yy)\n",
    "X_train,X_test,y_train,y_test = train_test_split(XX,yy,test_size = 0.1, random_state = 42)\n",
    "# print(X_train[0])\n",
    "\n",
    "print(len(X_train),len(X_test),len(y_train),len(y_test))\n",
    "print(X_train.shape,X_test.shape)\n",
    "print(y_train.shape,y_test.shape)\n",
    "\n",
    "x_train = X_train.reshape(X_train.shape[0], height, width, 1)/255.0\n",
    "x_test = X_test.reshape(X_test.shape[0], height, width, 1)/255.0\n",
    "print(x_train.shape,x_test.shape)\n",
    "print(y_train.shape)\n",
    "# y_train_1hot = keras.utils.to_categorical(y_train, num_classes)\n",
    "# y_test_1hot = keras.utils.to_categorical(y_test, num_classes)\n",
    "#print(y_train_1hot[0])\n",
    "#print(y_train_1hot.shape)"
   ]
  },
  {
   "cell_type": "code",
   "execution_count": 7,
   "metadata": {},
   "outputs": [
    {
     "data": {
      "image/png": "[encoded data removed]",
      "text/plain": [
       "<matplotlib.figure.Figure at 0x1c248567cf8>"
      ]
     },
     "metadata": {},
     "output_type": "display_data"
    }
   ],
   "source": [
    "# choose a random image\n",
    "k = np.random.choice(len(x_train))\n",
    "\n",
    "# visualize the random chosen image\n",
    "plt.imshow(x_train[k][:,:,0])\n",
    "# print the image label/class\n",
    "plt.title(y_train[k])\n",
    "plt.axis('off')\n",
    "plt.show()\n",
    "# '''\n",
    "# 1, 0, 0, 0, 0, 0  - A\n",
    "# 0, 1, 0, 0, 0, 0-  B\n",
    "# 0, 0, 1, 0, 0, 0- C\n",
    "# 0, 0, 0, 1, 0, 0- FIVE\n",
    "# 0, 0, 0, 0, 1, 0- POINT\n",
    "# 0, 0, 0, 0, 0, 1-V\n",
    "# '''"
   ]
  },
  {
   "cell_type": "markdown",
   "metadata": {},
   "source": [
    "# Training the model using Keras Sequential Model"
   ]
  },
  {
   "cell_type": "code",
   "execution_count": 8,
   "metadata": {
    "collapsed": true
   },
   "outputs": [],
   "source": [
    "#RIght model\n",
    "# specify the dimensions of our input\n",
    "input_shape = (height, width, 1)\n",
    "\n",
    "# type of the model\n",
    "model = Sequential()\n",
    "\n",
    "# first convolutional layer\n",
    "model.add(Conv2D(32, kernel_size=(3, 3),\n",
    "                 activation='relu',\n",
    "                 input_shape=input_shape))\n",
    "\n",
    "# second convolutional layer\n",
    "model.add(Conv2D(64, (3, 3), activation='relu'))\n",
    "\n",
    "# maxpooling and faltten for using dense layers\n",
    "model.add(MaxPooling2D(pool_size=(2, 2)))\n",
    "model.add(Dropout(0.25))\n",
    "model.add(Flatten())\n",
    "\n",
    "# dense layer with a l2 regularizer\n",
    "model.add(Dense(128, activation='relu', kernel_regularizer=regularizers.l2(0.001)))\n",
    "\n",
    "# output layer using softmax output\n",
    "model.add(Dense(num_classes, activation='softmax'))"
   ]
  },
  {
   "cell_type": "code",
   "execution_count": 9,
   "metadata": {
    "collapsed": true
   },
   "outputs": [],
   "source": [
    "model.compile(loss='categorical_crossentropy',\n",
    "              optimizer=keras.optimizers.SGD(lr=0.005),   # SGD = Stochastic gradient descent optimizer, lr = Learning Rate\n",
    "              metrics=['accuracy'])\n",
    "\n",
    "tensorboard = TensorBoard(log_dir = './logs', histogram_freq=epochs, batch_size=batch_size, write_graph=True, write_grads=True, \n",
    "                          write_images=True, embeddings_freq=0, embeddings_layer_names=None, embeddings_metadata=None )"
   ]
  },
  {
   "cell_type": "code",
   "execution_count": 10,
   "metadata": {},
   "outputs": [
    {
     "name": "stdout",
     "output_type": "stream",
     "text": [
      "Train on 4384 samples, validate on 488 samples\n",
      "Epoch 1/15\n",
      "4384/4384 [==============================] - 40s 9ms/step - loss: 1.9251 - acc: 0.3237 - val_loss: 1.8678 - val_acc: 0.4057\n",
      "Epoch 2/15\n",
      "4384/4384 [==============================] - 39s 9ms/step - loss: 1.7937 - acc: 0.3873 - val_loss: 1.6453 - val_acc: 0.4447\n",
      "Epoch 3/15\n",
      "4384/4384 [==============================] - 39s 9ms/step - loss: 1.6001 - acc: 0.4820 - val_loss: 1.4262 - val_acc: 0.6475\n",
      "Epoch 4/15\n",
      "4384/4384 [==============================] - 39s 9ms/step - loss: 1.4141 - acc: 0.5773 - val_loss: 1.2450 - val_acc: 0.7070\n",
      "Epoch 5/15\n",
      "4384/4384 [==============================] - 39s 9ms/step - loss: 1.2302 - acc: 0.6542 - val_loss: 1.2139 - val_acc: 0.6885\n",
      "Epoch 6/15\n",
      "4384/4384 [==============================] - 39s 9ms/step - loss: 1.0915 - acc: 0.7096 - val_loss: 1.0595 - val_acc: 0.7152\n",
      "Epoch 7/15\n",
      "4384/4384 [==============================] - 39s 9ms/step - loss: 1.0229 - acc: 0.7402 - val_loss: 0.9392 - val_acc: 0.7807\n",
      "Epoch 8/15\n",
      "4384/4384 [==============================] - 40s 9ms/step - loss: 0.9560 - acc: 0.7614 - val_loss: 0.8668 - val_acc: 0.8074\n",
      "Epoch 9/15\n",
      "4384/4384 [==============================] - 39s 9ms/step - loss: 0.8893 - acc: 0.7908 - val_loss: 0.8053 - val_acc: 0.8217\n",
      "Epoch 10/15\n",
      "4384/4384 [==============================] - 39s 9ms/step - loss: 0.8129 - acc: 0.8141 - val_loss: 0.7669 - val_acc: 0.8422\n",
      "Epoch 11/15\n",
      "4384/4384 [==============================] - 39s 9ms/step - loss: 0.7921 - acc: 0.8239 - val_loss: 0.8532 - val_acc: 0.7643\n",
      "Epoch 12/15\n",
      "4384/4384 [==============================] - 39s 9ms/step - loss: 0.7541 - acc: 0.8326 - val_loss: 0.7895 - val_acc: 0.8217\n",
      "Epoch 13/15\n",
      "4384/4384 [==============================] - 39s 9ms/step - loss: 0.6896 - acc: 0.8568 - val_loss: 0.6743 - val_acc: 0.8770\n",
      "Epoch 14/15\n",
      "4384/4384 [==============================] - 39s 9ms/step - loss: 0.6813 - acc: 0.8545 - val_loss: 0.7793 - val_acc: 0.8238\n",
      "Epoch 15/15\n",
      "4384/4384 [==============================] - 39s 9ms/step - loss: 0.6597 - acc: 0.8636 - val_loss: 0.6058 - val_acc: 0.9016\n"
     ]
    }
   ],
   "source": [
    "history = model.fit(x_train, y_train,\n",
    "                    batch_size=batch_size,\n",
    "                    epochs=epochs,\n",
    "                    verbose=1,\n",
    "                    callbacks=[tensorboard],\n",
    "                    validation_data=(x_test, y_test),\n",
    "                    shuffle = True) # with conv2D layers 64,128,256 epoch 15, batch_size = 32 and dimension = 60 lr = 0.005"
   ]
  },
  {
   "cell_type": "code",
   "execution_count": 11,
   "metadata": {},
   "outputs": [
    {
     "data": {
      "image/png": "[encoded data removed]",
      "text/plain": [
       "<matplotlib.figure.Figure at 0x1c2587580b8>"
      ]
     },
     "metadata": {},
     "output_type": "display_data"
    }
   ],
   "source": [
    "plt.plot(history.history['acc'])\n",
    "plt.plot(history.history['val_acc'])\n",
    "plt.title('model accuracy')\n",
    "plt.ylabel('accuracy')\n",
    "plt.xlabel('epoch')\n",
    "plt.legend(['train', 'test'], loc='upper left')\n",
    "plt.show()"
   ]
  },
  {
   "cell_type": "code",
   "execution_count": 12,
   "metadata": {},
   "outputs": [
    {
     "data": {
      "image/png": "[encoded data removed]",
      "text/plain": [
       "<matplotlib.figure.Figure at 0x1c258aa8d68>"
      ]
     },
     "metadata": {},
     "output_type": "display_data"
    }
   ],
   "source": [
    "plt.plot(history.history['loss'])\n",
    "plt.plot(history.history['val_loss'])\n",
    "plt.title('model loss')\n",
    "plt.ylabel('loss')\n",
    "plt.xlabel('epoch')\n",
    "plt.legend(['train', 'test'], loc='upper left')\n",
    "plt.show()"
   ]
  },
  {
   "cell_type": "code",
   "execution_count": 13,
   "metadata": {},
   "outputs": [
    {
     "name": "stdout",
     "output_type": "stream",
     "text": [
      "382/382 [==============================] - 1s 3ms/step\n",
      "['loss', 'acc']\n",
      "[2.4780661984888046, 0.37958115183246072]\n"
     ]
    }
   ],
   "source": [
    "score = model.evaluate(X_test_uniform, yy_test_uniform, verbose=1)\n",
    "print(model.metrics_names)\n",
    "print(score) # with conv2D layers 64,128,256 epoch 20, batch_size = 32 and dimension = 60 lr = 0.001"
   ]
  },
  {
   "cell_type": "code",
   "execution_count": 14,
   "metadata": {},
   "outputs": [
    {
     "name": "stdout",
     "output_type": "stream",
     "text": [
      "277/277 [==============================] - 1s 3ms/step\n",
      "[3.0343878828661537, 0.32129963947332291]\n"
     ]
    }
   ],
   "source": [
    "score_complex = model.evaluate(X_test_complex, yy_test_complex, verbose=1)\n",
    "print(score_complex)  # with conv2D layers 64,128,256 epoch 20, batch_size = 32 and dimension = 60 lr = 0.001"
   ]
  },
  {
   "cell_type": "code",
   "execution_count": 17,
   "metadata": {},
   "outputs": [
    {
     "data": {
      "image/png": "[encoded data removed]",
      "text/plain": [
       "<matplotlib.figure.Figure at 0x1cdbc848d68>"
      ]
     },
     "metadata": {},
     "output_type": "display_data"
    },
    {
     "name": "stdout",
     "output_type": "stream",
     "text": [
      "[0 0 1 0 0 0] C\n"
     ]
    },
    {
     "data": {
      "text/plain": [
       "'\\n1, 0, 0, 0, 0, 0- A\\n0, 1, 0, 0, 0, 0- B\\n0, 0, 1, 0, 0, 0- C\\n0, 0, 0, 1, 0, 0- FIVE\\n0, 0, 0, 0, 1, 0- POINT\\n0, 0, 0, 0, 0, 1- V\\n'"
      ]
     },
     "execution_count": 17,
     "metadata": {},
     "output_type": "execute_result"
    }
   ],
   "source": [
    "k = np.random.choice(len(X_test_uniform))\n",
    "\n",
    "plt.imshow(X_test_uniform[k][:,:,0] , cmap='gray')\n",
    "\n",
    "image = X_test_uniform[k].reshape(1,height, width, 1)\n",
    "\n",
    "# our model guess for the label of the image\n",
    "label = model.predict_classes(image,verbose=False) # verbose give extra detail about how much it takes to calculate and all\n",
    "\n",
    "plt.title(label)\n",
    "plt.axis('off')\n",
    "plt.show()\n",
    "print(yy_test_uniform[k],y_test_uniform[k])\n",
    "# '''\n",
    "# 1, 0, 0, 0, 0, 0- A       - 0\n",
    "# 0, 1, 0, 0, 0, 0- B       - 1\n",
    "# 0, 0, 1, 0, 0, 0- C       - 2\n",
    "# 0, 0, 0, 1, 0, 0- FIVE    - 3\n",
    "# 0, 0, 0, 0, 1, 0- POINT   - 4\n",
    "# 0, 0, 0, 0, 0, 1- V       - 5\n",
    "# '''"
   ]
  },
  {
   "cell_type": "code",
   "execution_count": null,
   "metadata": {
    "collapsed": true
   },
   "outputs": [],
   "source": []
  },
  {
   "cell_type": "code",
   "execution_count": null,
   "metadata": {
    "collapsed": true
   },
   "outputs": [],
   "source": [
    "tensorboard --logdir=C:\\Users\\ppanda\\Desktop\\ML\\project3\\logs"
   ]
  },
  {
   "cell_type": "code",
   "execution_count": 11,
   "metadata": {},
   "outputs": [
    {
     "name": "stdout",
     "output_type": "stream",
     "text": [
      "Train on 4384 samples, validate on 488 samples\n",
      "Epoch 1/20\n",
      "4384/4384 [==============================] - 146s - loss: 1.6387 - acc: 0.3323 - val_loss: 1.5472 - val_acc: 0.4283\n",
      "Epoch 2/20\n",
      "4384/4384 [==============================] - 115s - loss: 1.4904 - acc: 0.4140 - val_loss: 1.3700 - val_acc: 0.5020\n",
      "Epoch 3/20\n",
      "4384/4384 [==============================] - 112s - loss: 1.3344 - acc: 0.5073 - val_loss: 1.2094 - val_acc: 0.5574\n",
      "Epoch 4/20\n",
      "4384/4384 [==============================] - 114s - loss: 1.2049 - acc: 0.5561 - val_loss: 1.0686 - val_acc: 0.6639\n",
      "Epoch 5/20\n",
      "4384/4384 [==============================] - 113s - loss: 1.0758 - acc: 0.6109 - val_loss: 0.9805 - val_acc: 0.7111\n",
      "Epoch 6/20\n",
      "4384/4384 [==============================] - 112s - loss: 0.9790 - acc: 0.6560 - val_loss: 0.8840 - val_acc: 0.6824\n",
      "Epoch 7/20\n",
      "4384/4384 [==============================] - 112s - loss: 0.8903 - acc: 0.7007 - val_loss: 0.7644 - val_acc: 0.7889\n",
      "Epoch 8/20\n",
      "4384/4384 [==============================] - 116s - loss: 0.8015 - acc: 0.7245 - val_loss: 0.7627 - val_acc: 0.7152\n",
      "Epoch 9/20\n",
      "4384/4384 [==============================] - 112s - loss: 0.7333 - acc: 0.7571 - val_loss: 0.6302 - val_acc: 0.8279\n",
      "Epoch 10/20\n",
      "4384/4384 [==============================] - 113s - loss: 0.6956 - acc: 0.7703 - val_loss: 0.6481 - val_acc: 0.7889\n",
      "Epoch 11/20\n",
      "4384/4384 [==============================] - 112s - loss: 0.6223 - acc: 0.8004 - val_loss: 0.5511 - val_acc: 0.8381\n",
      "Epoch 12/20\n",
      "4384/4384 [==============================] - 114s - loss: 0.5881 - acc: 0.8150 - val_loss: 0.5753 - val_acc: 0.8279\n",
      "Epoch 13/20\n",
      "4384/4384 [==============================] - 112s - loss: 0.5561 - acc: 0.8232 - val_loss: 0.5824 - val_acc: 0.8176\n",
      "Epoch 14/20\n",
      "4384/4384 [==============================] - 113s - loss: 0.5184 - acc: 0.8353 - val_loss: 0.4746 - val_acc: 0.8750\n",
      "Epoch 15/20\n",
      "4384/4384 [==============================] - 114s - loss: 0.4864 - acc: 0.8492 - val_loss: 0.6332 - val_acc: 0.8053\n",
      "Epoch 16/20\n",
      "4384/4384 [==============================] - 113s - loss: 0.4596 - acc: 0.8586 - val_loss: 0.5299 - val_acc: 0.8504\n",
      "Epoch 17/20\n",
      "4384/4384 [==============================] - 114s - loss: 0.4326 - acc: 0.8704 - val_loss: 0.5320 - val_acc: 0.8094\n",
      "Epoch 18/20\n",
      "4384/4384 [==============================] - 112s - loss: 0.4126 - acc: 0.8693 - val_loss: 0.3970 - val_acc: 0.8791\n",
      "Epoch 19/20\n",
      "4384/4384 [==============================] - 112s - loss: 0.3946 - acc: 0.8793 - val_loss: 0.4358 - val_acc: 0.8586\n",
      "Epoch 20/20\n",
      "4384/4384 [==============================] - 114s - loss: 0.3833 - acc: 0.8846 - val_loss: 0.3956 - val_acc: 0.8730\n"
     ]
    }
   ],
   "source": [
    "history = model.fit(x_train, y_train,\n",
    "                    batch_size=batch_size,\n",
    "                    epochs=epochs,\n",
    "                    verbose=1,\n",
    "                    callbacks=[tensorboard],\n",
    "                    validation_data=(x_test, y_test),\n",
    "                    shuffle = True)# with conv2D layers 16,32,64 epoch 20, batch_size = 32 and dimension = 60 lr = 0.001"
   ]
  },
  {
   "cell_type": "markdown",
   "metadata": {},
   "source": [
    "# Testing the model on test data"
   ]
  },
  {
   "cell_type": "code",
   "execution_count": 12,
   "metadata": {},
   "outputs": [
    {
     "name": "stdout",
     "output_type": "stream",
     "text": [
      "382/382 [==============================] - 5s     \n",
      "['loss', 'acc']\n",
      "[2.456546814653886, 0.37696335187757202]\n"
     ]
    }
   ],
   "source": [
    "score = model.evaluate(X_test_uniform, yy_test_uniform, verbose=1)\n",
    "print(model.metrics_names)\n",
    "print(score) # with conv2D layers 16,32,64 epoch 20, batch_size = 32 and dimension = 60 lr = 0.001"
   ]
  },
  {
   "cell_type": "markdown",
   "metadata": {
    "collapsed": true
   },
   "source": [
    "# Training with different parameters"
   ]
  },
  {
   "cell_type": "code",
   "execution_count": 11,
   "metadata": {},
   "outputs": [
    {
     "name": "stdout",
     "output_type": "stream",
     "text": [
      "Train on 4384 samples, validate on 488 samples\n",
      "Epoch 1/20\n",
      "4384/4384 [==============================] - 753s - loss: 2.2075 - acc: 0.3214 - val_loss: 2.1783 - val_acc: 0.3811\n",
      "Epoch 2/20\n",
      "4384/4384 [==============================] - 452s - loss: 2.1692 - acc: 0.3515 - val_loss: 2.1623 - val_acc: 0.4037\n",
      "Epoch 3/20\n",
      "4384/4384 [==============================] - 461s - loss: 2.1455 - acc: 0.3661 - val_loss: 2.1278 - val_acc: 0.3975\n",
      "Epoch 4/20\n",
      "4384/4384 [==============================] - 431s - loss: 2.1121 - acc: 0.3654 - val_loss: 2.0854 - val_acc: 0.4037\n",
      "Epoch 5/20\n",
      "4384/4384 [==============================] - 425s - loss: 2.0661 - acc: 0.3789 - val_loss: 2.0280 - val_acc: 0.4139\n",
      "Epoch 6/20\n",
      "4384/4384 [==============================] - 422s - loss: 2.0049 - acc: 0.4053 - val_loss: 1.9565 - val_acc: 0.4262\n",
      "Epoch 7/20\n",
      "4384/4384 [==============================] - 425s - loss: 1.9307 - acc: 0.4455 - val_loss: 1.8745 - val_acc: 0.4980\n",
      "Epoch 8/20\n",
      "4384/4384 [==============================] - 422s - loss: 1.8478 - acc: 0.4948 - val_loss: 1.8059 - val_acc: 0.5307\n",
      "Epoch 9/20\n",
      "4384/4384 [==============================] - 417s - loss: 1.7691 - acc: 0.5322 - val_loss: 1.7266 - val_acc: 0.5881\n",
      "Epoch 10/20\n",
      "4384/4384 [==============================] - 426s - loss: 1.6952 - acc: 0.5769 - val_loss: 1.6240 - val_acc: 0.6352\n",
      "Epoch 11/20\n",
      "4384/4384 [==============================] - 426s - loss: 1.6267 - acc: 0.5999 - val_loss: 1.5808 - val_acc: 0.6066\n",
      "Epoch 12/20\n",
      "4384/4384 [==============================] - 424s - loss: 1.5610 - acc: 0.6302 - val_loss: 1.4810 - val_acc: 0.6824\n",
      "Epoch 13/20\n",
      "4384/4384 [==============================] - 423s - loss: 1.5264 - acc: 0.6339 - val_loss: 1.4404 - val_acc: 0.7070\n",
      "Epoch 14/20\n",
      "4384/4384 [==============================] - 429s - loss: 1.4438 - acc: 0.6807 - val_loss: 1.3562 - val_acc: 0.7541\n",
      "Epoch 15/20\n",
      "4384/4384 [==============================] - 416s - loss: 1.4054 - acc: 0.6873 - val_loss: 1.3293 - val_acc: 0.7746\n",
      "Epoch 16/20\n",
      "4384/4384 [==============================] - 419s - loss: 1.3501 - acc: 0.7149 - val_loss: 1.2871 - val_acc: 0.7746\n",
      "Epoch 17/20\n",
      "4384/4384 [==============================] - 418s - loss: 1.3236 - acc: 0.7256 - val_loss: 1.2397 - val_acc: 0.7910\n",
      "Epoch 18/20\n",
      "4384/4384 [==============================] - 428s - loss: 1.2828 - acc: 0.7466 - val_loss: 1.2415 - val_acc: 0.7725\n",
      "Epoch 19/20\n",
      "4384/4384 [==============================] - 424s - loss: 1.2467 - acc: 0.7578 - val_loss: 1.2648 - val_acc: 0.7705\n",
      "Epoch 20/20\n",
      "4384/4384 [==============================] - 480s - loss: 1.2411 - acc: 0.7491 - val_loss: 1.1344 - val_acc: 0.8320\n"
     ]
    }
   ],
   "source": [
    "history = model.fit(x_train, y_train,\n",
    "                    batch_size=batch_size,\n",
    "                    epochs=epochs,\n",
    "                    verbose=1,\n",
    "                    callbacks=[tensorboard],\n",
    "                    validation_data=(x_test, y_test),\n",
    "                    shuffle = True)  # with conv2D layers 64,128,256 epoch 20, batch_size = 32 and dimension = 128 lr = 0.001"
   ]
  },
  {
   "cell_type": "code",
   "execution_count": 12,
   "metadata": {},
   "outputs": [
    {
     "name": "stdout",
     "output_type": "stream",
     "text": [
      "dict_keys(['val_loss', 'val_acc', 'loss', 'acc'])\n"
     ]
    }
   ],
   "source": [
    "print(history.history.keys())  "
   ]
  },
  {
   "cell_type": "code",
   "execution_count": 13,
   "metadata": {},
   "outputs": [
    {
     "data": {
      "image/png": "[encoded data removed]",
      "text/plain": [
       "<matplotlib.figure.Figure at 0x243ef87a320>"
      ]
     },
     "metadata": {},
     "output_type": "display_data"
    }
   ],
   "source": [
    "plt.plot(history.history['acc'])\n",
    "plt.plot(history.history['val_acc'])\n",
    "plt.title('model accuracy')\n",
    "plt.ylabel('accuracy')\n",
    "plt.xlabel('epoch')\n",
    "plt.legend(['train', 'test'], loc='upper left')\n",
    "plt.show()"
   ]
  },
  {
   "cell_type": "code",
   "execution_count": 14,
   "metadata": {},
   "outputs": [
    {
     "data": {
      "image/png": "[encoded data removed]",
      "text/plain": [
       "<matplotlib.figure.Figure at 0x243ef8672b0>"
      ]
     },
     "metadata": {},
     "output_type": "display_data"
    }
   ],
   "source": [
    "plt.plot(history.history['loss'])\n",
    "plt.plot(history.history['val_loss'])\n",
    "plt.title('model loss')\n",
    "plt.ylabel('loss')\n",
    "plt.xlabel('epoch')\n",
    "plt.legend(['train', 'test'], loc='upper left')\n",
    "plt.show()"
   ]
  },
  {
   "cell_type": "code",
   "execution_count": 15,
   "metadata": {},
   "outputs": [
    {
     "name": "stdout",
     "output_type": "stream",
     "text": [
      "382/382 [==============================] - 13s    \n",
      "['loss', 'acc']\n",
      "[2.6878142681421409, 0.36649214768909033]\n"
     ]
    }
   ],
   "source": [
    "score = model.evaluate(X_test_uniform, yy_test_uniform, verbose=1)\n",
    "print(model.metrics_names)\n",
    "print(score)  # with conv2D layers 64,128,256 epoch 20, batch_size = 32 and dimension = 128 lr = 0.001"
   ]
  },
  {
   "cell_type": "code",
   "execution_count": 16,
   "metadata": {},
   "outputs": [
    {
     "name": "stdout",
     "output_type": "stream",
     "text": [
      "277/277 [==============================] - 9s     \n",
      "[3.1932628387148201, 0.29241877288594575]\n"
     ]
    }
   ],
   "source": [
    "score_complex = model.evaluate(X_test_complex, yy_test_complex, verbose=1)\n",
    "print(score_complex)  # with conv2D layers 64,128,256 epoch 20, batch_size = 32 and dimension = 128 lr = 0.001"
   ]
  },
  {
   "cell_type": "code",
   "execution_count": null,
   "metadata": {
    "collapsed": true
   },
   "outputs": [],
   "source": []
  },
  {
   "cell_type": "code",
   "execution_count": 10,
   "metadata": {},
   "outputs": [
    {
     "name": "stdout",
     "output_type": "stream",
     "text": [
      "Train on 4384 samples, validate on 488 samples\n",
      "Epoch 1/20\n",
      "4384/4384 [==============================] - 884s - loss: 1.9321 - acc: 0.3143 - val_loss: 1.8995 - val_acc: 0.3811\n",
      "Epoch 2/20\n",
      "4384/4384 [==============================] - 614s - loss: 1.8723 - acc: 0.3606 - val_loss: 1.8201 - val_acc: 0.3996\n",
      "Epoch 3/20\n",
      "4384/4384 [==============================] - 625s - loss: 1.7798 - acc: 0.4069 - val_loss: 1.6964 - val_acc: 0.4406\n",
      "Epoch 4/20\n",
      "4384/4384 [==============================] - 606s - loss: 1.6440 - acc: 0.4683 - val_loss: 1.5649 - val_acc: 0.5840\n",
      "Epoch 5/20\n",
      "4384/4384 [==============================] - 849s - loss: 1.5173 - acc: 0.5297 - val_loss: 1.3906 - val_acc: 0.6004\n",
      "Epoch 6/20\n",
      "4384/4384 [==============================] - 615s - loss: 1.3928 - acc: 0.5862 - val_loss: 1.2804 - val_acc: 0.6824\n",
      "Epoch 7/20\n",
      "4384/4384 [==============================] - 636s - loss: 1.2883 - acc: 0.6289 - val_loss: 1.2333 - val_acc: 0.6332\n",
      "Epoch 8/20\n",
      "4384/4384 [==============================] - 611s - loss: 1.1986 - acc: 0.6677 - val_loss: 1.0745 - val_acc: 0.7889\n",
      "Epoch 9/20\n",
      "4384/4384 [==============================] - 836s - loss: 1.1297 - acc: 0.6911 - val_loss: 1.0112 - val_acc: 0.7848\n",
      "Epoch 10/20\n",
      "4384/4384 [==============================] - 615s - loss: 1.0392 - acc: 0.7400 - val_loss: 0.9619 - val_acc: 0.7664\n",
      "Epoch 11/20\n",
      "4384/4384 [==============================] - 612s - loss: 0.9928 - acc: 0.7514 - val_loss: 0.8922 - val_acc: 0.8320\n",
      "Epoch 12/20\n",
      "4384/4384 [==============================] - 618s - loss: 0.9207 - acc: 0.7822 - val_loss: 0.8704 - val_acc: 0.7992\n",
      "Epoch 13/20\n",
      "4384/4384 [==============================] - 834s - loss: 0.8626 - acc: 0.7974 - val_loss: 0.9145 - val_acc: 0.7705\n",
      "Epoch 14/20\n",
      "4384/4384 [==============================] - 620s - loss: 0.8189 - acc: 0.8180 - val_loss: 0.8885 - val_acc: 0.8094\n",
      "Epoch 15/20\n",
      "4384/4384 [==============================] - 611s - loss: 0.8374 - acc: 0.8034 - val_loss: 0.8309 - val_acc: 0.8135\n",
      "Epoch 16/20\n",
      "4384/4384 [==============================] - 610s - loss: 0.7580 - acc: 0.8419 - val_loss: 0.7497 - val_acc: 0.8566\n",
      "Epoch 17/20\n",
      "4384/4384 [==============================] - 844s - loss: 0.7335 - acc: 0.8458 - val_loss: 0.7332 - val_acc: 0.8463\n",
      "Epoch 18/20\n",
      "4384/4384 [==============================] - 619s - loss: 0.7026 - acc: 0.8570 - val_loss: 0.8614 - val_acc: 0.8012\n",
      "Epoch 19/20\n",
      "4384/4384 [==============================] - 623s - loss: 0.6979 - acc: 0.8590 - val_loss: 0.7208 - val_acc: 0.8422\n",
      "Epoch 20/20\n",
      "4384/4384 [==============================] - 729s - loss: 0.6815 - acc: 0.8682 - val_loss: 0.6707 - val_acc: 0.8791\n"
     ]
    }
   ],
   "source": [
    "history = model.fit(x_train, y_train,\n",
    "                    batch_size=batch_size,\n",
    "                    epochs=epochs,\n",
    "                    verbose=1,\n",
    "                    callbacks=[tensorboard],\n",
    "                    validation_data=(x_test, y_test),\n",
    "                    shuffle = True) # with epoch 20, batch_size = 32 and dimension = 128 lr = 0.001 conv2D layers 32,64,128 \n",
    "# started at 11:15 AM and finished at 3:00 pm"
   ]
  },
  {
   "cell_type": "code",
   "execution_count": 11,
   "metadata": {},
   "outputs": [
    {
     "name": "stdout",
     "output_type": "stream",
     "text": [
      "dict_keys(['val_loss', 'val_acc', 'loss', 'acc'])\n"
     ]
    }
   ],
   "source": [
    "print(history.history.keys())"
   ]
  },
  {
   "cell_type": "code",
   "execution_count": 12,
   "metadata": {},
   "outputs": [
    {
     "data": {
      "image/png": "[encoded data removed]",
      "text/plain": [
       "<matplotlib.figure.Figure at 0x215aa265f60>"
      ]
     },
     "metadata": {},
     "output_type": "display_data"
    }
   ],
   "source": [
    "plt.plot(history.history['acc'])\n",
    "plt.plot(history.history['val_acc'])\n",
    "plt.title('model accuracy')\n",
    "plt.ylabel('accuracy')\n",
    "plt.xlabel('epoch')\n",
    "plt.legend(['train', 'test'], loc='upper left')\n",
    "plt.show()"
   ]
  },
  {
   "cell_type": "code",
   "execution_count": 13,
   "metadata": {},
   "outputs": [
    {
     "data": {
      "image/png": "[encoded data removed]",
      "text/plain": [
       "<matplotlib.figure.Figure at 0x215f55c1be0>"
      ]
     },
     "metadata": {},
     "output_type": "display_data"
    }
   ],
   "source": [
    "plt.plot(history.history['loss'])\n",
    "plt.plot(history.history['val_loss'])\n",
    "plt.title('model loss')\n",
    "plt.ylabel('loss')\n",
    "plt.xlabel('epoch')\n",
    "plt.legend(['train', 'test'], loc='upper left')\n",
    "plt.show()"
   ]
  },
  {
   "cell_type": "code",
   "execution_count": 14,
   "metadata": {},
   "outputs": [
    {
     "name": "stdout",
     "output_type": "stream",
     "text": [
      "382/382 [==============================] - 15s    \n",
      "['loss', 'acc']\n",
      "[2.670275553358787, 0.36910994772199562]\n"
     ]
    }
   ],
   "source": [
    "score = model.evaluate(X_test_uniform, yy_test_uniform, verbose=1)\n",
    "print(model.metrics_names)\n",
    "print(score) # with epoch 20, batch_size = 32 and dimension = 128 and uniform test result lr = 0.001 layers 32,64,128"
   ]
  },
  {
   "cell_type": "code",
   "execution_count": 15,
   "metadata": {},
   "outputs": [
    {
     "name": "stdout",
     "output_type": "stream",
     "text": [
      "277/277 [==============================] - 12s    \n",
      "[3.2786507150326396, 0.31046931461737043]\n"
     ]
    }
   ],
   "source": [
    "score_complex = model.evaluate(X_test_complex, yy_test_complex, verbose=1)\n",
    "print(score_complex) # with epoch 20, batch_size = 32 and dimension = 128 and uniform test result lr = 0.001 layers 32,64,128"
   ]
  },
  {
   "cell_type": "code",
   "execution_count": null,
   "metadata": {
    "collapsed": true
   },
   "outputs": [],
   "source": []
  },
  {
   "cell_type": "code",
   "execution_count": null,
   "metadata": {
    "collapsed": true
   },
   "outputs": [],
   "source": [
    "tensorboard --logdir=foo:C:\\Users\\USER\\Documents\\MS\\WinterQuarter_2018\\ML\\p_3\\logs"
   ]
  },
  {
   "cell_type": "code",
   "execution_count": null,
   "metadata": {
    "collapsed": true
   },
   "outputs": [],
   "source": []
  },
  {
   "cell_type": "code",
   "execution_count": 17,
   "metadata": {},
   "outputs": [
    {
     "name": "stdout",
     "output_type": "stream",
     "text": [
      "Train on 4384 samples, validate on 488 samples\n",
      "Epoch 1/20\n",
      "4384/4384 [==============================] - 569s - loss: 1.9371 - acc: 0.3109 - val_loss: 1.9094 - val_acc: 0.2848\n",
      "Epoch 2/20\n",
      "4384/4384 [==============================] - 540s - loss: 1.8911 - acc: 0.3508 - val_loss: 1.8609 - val_acc: 0.3566\n",
      "Epoch 3/20\n",
      "4384/4384 [==============================] - 541s - loss: 1.8393 - acc: 0.3652 - val_loss: 1.8075 - val_acc: 0.4590\n",
      "Epoch 4/20\n",
      "4384/4384 [==============================] - 552s - loss: 1.7759 - acc: 0.3932 - val_loss: 1.7132 - val_acc: 0.4529\n",
      "Epoch 5/20\n",
      "4384/4384 [==============================] - 587s - loss: 1.6976 - acc: 0.4368 - val_loss: 1.6204 - val_acc: 0.4836\n",
      "Epoch 6/20\n",
      "4384/4384 [==============================] - 605s - loss: 1.6096 - acc: 0.4941 - val_loss: 1.5474 - val_acc: 0.5000\n",
      "Epoch 7/20\n",
      "4384/4384 [==============================] - 578s - loss: 1.5328 - acc: 0.5310 - val_loss: 1.5009 - val_acc: 0.5656\n",
      "Epoch 8/20\n",
      "4384/4384 [==============================] - 589s - loss: 1.4597 - acc: 0.5659 - val_loss: 1.5040 - val_acc: 0.5061\n",
      "Epoch 9/20\n",
      "4384/4384 [==============================] - 597s - loss: 1.3796 - acc: 0.6013 - val_loss: 1.3358 - val_acc: 0.6332\n",
      "Epoch 10/20\n",
      "4384/4384 [==============================] - 594s - loss: 1.3426 - acc: 0.6029 - val_loss: 1.2501 - val_acc: 0.6762\n",
      "Epoch 11/20\n",
      "4384/4384 [==============================] - 562s - loss: 1.2939 - acc: 0.6243 - val_loss: 1.5177 - val_acc: 0.4549\n",
      "Epoch 12/20\n",
      "4384/4384 [==============================] - 544s - loss: 1.2118 - acc: 0.6640 - val_loss: 1.1863 - val_acc: 0.6475\n",
      "Epoch 13/20\n",
      "4384/4384 [==============================] - 555s - loss: 1.1582 - acc: 0.6841 - val_loss: 1.0902 - val_acc: 0.7439\n",
      "Epoch 14/20\n",
      "4384/4384 [==============================] - 568s - loss: 1.1315 - acc: 0.6930 - val_loss: 1.7074 - val_acc: 0.5820\n",
      "Epoch 15/20\n",
      "4384/4384 [==============================] - 535s - loss: 1.0899 - acc: 0.7130 - val_loss: 0.9754 - val_acc: 0.7828\n",
      "Epoch 16/20\n",
      "4384/4384 [==============================] - 536s - loss: 1.0406 - acc: 0.7329 - val_loss: 1.0659 - val_acc: 0.7111\n",
      "Epoch 17/20\n",
      "4384/4384 [==============================] - 571s - loss: 1.0043 - acc: 0.7479 - val_loss: 1.4873 - val_acc: 0.6107\n",
      "Epoch 18/20\n",
      "4384/4384 [==============================] - 668s - loss: 0.9775 - acc: 0.7619 - val_loss: 0.9759 - val_acc: 0.7398\n",
      "Epoch 19/20\n",
      "4384/4384 [==============================] - 629s - loss: 0.9135 - acc: 0.7819 - val_loss: 0.9403 - val_acc: 0.7828\n",
      "Epoch 20/20\n",
      "4384/4384 [==============================] - 656s - loss: 0.9163 - acc: 0.7735 - val_loss: 0.8304 - val_acc: 0.8422\n"
     ]
    }
   ],
   "source": [
    "history = model.fit(x_train, y_train,\n",
    "                    batch_size=batch_size,\n",
    "                    epochs=epochs,\n",
    "                    verbose=1,\n",
    "                    validation_data=(x_test, y_test)) # with epoch 20, batch_size = 64 and dimension = 128 lr = 0.001"
   ]
  },
  {
   "cell_type": "code",
   "execution_count": 18,
   "metadata": {},
   "outputs": [
    {
     "name": "stdout",
     "output_type": "stream",
     "text": [
      "dict_keys(['val_loss', 'val_acc', 'loss', 'acc'])\n"
     ]
    }
   ],
   "source": [
    "print(history.history.keys())"
   ]
  },
  {
   "cell_type": "code",
   "execution_count": 19,
   "metadata": {},
   "outputs": [
    {
     "data": {
      "image/png": "[encoded data removed]",
      "text/plain": [
       "<matplotlib.figure.Figure at 0x16021dd2c88>"
      ]
     },
     "metadata": {},
     "output_type": "display_data"
    }
   ],
   "source": [
    "plt.plot(history.history['acc'])\n",
    "plt.plot(history.history['val_acc'])\n",
    "plt.title('model accuracy')\n",
    "plt.ylabel('accuracy')\n",
    "plt.xlabel('epoch')\n",
    "plt.legend(['train', 'test'], loc='upper left')\n",
    "plt.show()"
   ]
  },
  {
   "cell_type": "code",
   "execution_count": 20,
   "metadata": {},
   "outputs": [
    {
     "data": {
      "image/png": "[encoded data removed]",
      "text/plain": [
       "<matplotlib.figure.Figure at 0x16051c8cef0>"
      ]
     },
     "metadata": {},
     "output_type": "display_data"
    }
   ],
   "source": [
    "plt.plot(history.history['loss'])\n",
    "plt.plot(history.history['val_loss'])\n",
    "plt.title('model loss')\n",
    "plt.ylabel('loss')\n",
    "plt.xlabel('epoch')\n",
    "plt.legend(['train', 'test'], loc='upper left')\n",
    "plt.show()"
   ]
  },
  {
   "cell_type": "code",
   "execution_count": 21,
   "metadata": {},
   "outputs": [
    {
     "name": "stdout",
     "output_type": "stream",
     "text": [
      "382/382 [==============================] - 15s    \n",
      "['loss', 'acc']\n",
      "[2.5693013318546156, 0.33769633601473265]\n"
     ]
    }
   ],
   "source": [
    "score = model.evaluate(X_test_uniform, yy_test_uniform, verbose=1)\n",
    "print(model.metrics_names)\n",
    "print(score) # with epoch 20, batch_size = 64 and dimension = 128 and uniform test result lr = 0.001"
   ]
  },
  {
   "cell_type": "code",
   "execution_count": 22,
   "metadata": {},
   "outputs": [
    {
     "name": "stdout",
     "output_type": "stream",
     "text": [
      "277/277 [==============================] - 12s    \n",
      "[2.9961092738898651, 0.28519855627944751]\n"
     ]
    }
   ],
   "source": [
    "score_complex = model.evaluate(X_test_complex, yy_test_complex, verbose=1)\n",
    "print(score_complex) # with epoch 20, batch_size = 64 and dimension = 128 and uniform test result lr = 0.001"
   ]
  },
  {
   "cell_type": "code",
   "execution_count": null,
   "metadata": {
    "collapsed": true
   },
   "outputs": [],
   "source": []
  },
  {
   "cell_type": "code",
   "execution_count": 42,
   "metadata": {},
   "outputs": [
    {
     "name": "stdout",
     "output_type": "stream",
     "text": [
      "Train on 4384 samples, validate on 488 samples\n",
      "Epoch 1/20\n",
      "4384/4384 [==============================] - 749s - loss: 1.9010 - acc: 0.3385 - val_loss: 1.9257 - val_acc: 0.2766\n",
      "Epoch 2/20\n",
      "4384/4384 [==============================] - 683s - loss: 1.7460 - acc: 0.4031 - val_loss: 1.6189 - val_acc: 0.4816\n",
      "Epoch 3/20\n",
      "4384/4384 [==============================] - 758s - loss: 1.5801 - acc: 0.4911 - val_loss: 1.5582 - val_acc: 0.5594\n",
      "Epoch 4/20\n",
      "4384/4384 [==============================] - 746s - loss: 1.4275 - acc: 0.5639 - val_loss: 1.3172 - val_acc: 0.6762\n",
      "Epoch 5/20\n",
      "4384/4384 [==============================] - 733s - loss: 1.2766 - acc: 0.6286 - val_loss: 1.1269 - val_acc: 0.7275\n",
      "Epoch 6/20\n",
      "4384/4384 [==============================] - 709s - loss: 1.1704 - acc: 0.6811 - val_loss: 1.0002 - val_acc: 0.7602\n",
      "Epoch 7/20\n",
      "4384/4384 [==============================] - 793s - loss: 1.0729 - acc: 0.7101 - val_loss: 1.2419 - val_acc: 0.6045\n",
      "Epoch 8/20\n",
      "4384/4384 [==============================] - 755s - loss: 0.9888 - acc: 0.7530 - val_loss: 1.3384 - val_acc: 0.6332\n",
      "Epoch 9/20\n",
      "4384/4384 [==============================] - 634s - loss: 0.9055 - acc: 0.7797 - val_loss: 1.8895 - val_acc: 0.5369\n",
      "Epoch 10/20\n",
      "4384/4384 [==============================] - 701s - loss: 0.8747 - acc: 0.7835 - val_loss: 1.1664 - val_acc: 0.6762\n",
      "Epoch 11/20\n",
      "4384/4384 [==============================] - 903s - loss: 0.8082 - acc: 0.8130 - val_loss: 0.9475 - val_acc: 0.7480\n",
      "Epoch 12/20\n",
      "4384/4384 [==============================] - 748s - loss: 0.7952 - acc: 0.8157 - val_loss: 0.7307 - val_acc: 0.8586\n",
      "Epoch 13/20\n",
      "4384/4384 [==============================] - 711s - loss: 0.7534 - acc: 0.8344 - val_loss: 0.6970 - val_acc: 0.8607\n",
      "Epoch 14/20\n",
      "4384/4384 [==============================] - 611s - loss: 0.7042 - acc: 0.8451 - val_loss: 0.8324 - val_acc: 0.7951\n",
      "Epoch 15/20\n",
      "4384/4384 [==============================] - 664s - loss: 0.6468 - acc: 0.8684 - val_loss: 0.7718 - val_acc: 0.8258\n",
      "Epoch 16/20\n",
      "4384/4384 [==============================] - 754s - loss: 0.6446 - acc: 0.8688 - val_loss: 0.7122 - val_acc: 0.8361\n",
      "Epoch 17/20\n",
      "4384/4384 [==============================] - 776s - loss: 0.6046 - acc: 0.8837 - val_loss: 0.6777 - val_acc: 0.8648\n",
      "Epoch 18/20\n",
      "4384/4384 [==============================] - 746s - loss: 0.5959 - acc: 0.8807 - val_loss: 1.0943 - val_acc: 0.6742\n",
      "Epoch 19/20\n",
      "4384/4384 [==============================] - 655s - loss: 0.5812 - acc: 0.8901 - val_loss: 0.5874 - val_acc: 0.8893\n",
      "Epoch 20/20\n",
      "4384/4384 [==============================] - 594s - loss: 0.5608 - acc: 0.8987 - val_loss: 0.6958 - val_acc: 0.8668\n"
     ]
    }
   ],
   "source": [
    "history = model.fit(x_train, y_train,\n",
    "                    batch_size=batch_size,\n",
    "                    epochs=epochs,\n",
    "                    verbose=1,\n",
    "                    validation_data=(x_test, y_test)) # with epoch 20, batch_size = 64 and dimension = 128 lr = 0.005"
   ]
  },
  {
   "cell_type": "code",
   "execution_count": 44,
   "metadata": {},
   "outputs": [
    {
     "name": "stdout",
     "output_type": "stream",
     "text": [
      "dict_keys(['val_loss', 'val_acc', 'loss', 'acc'])\n"
     ]
    }
   ],
   "source": [
    "print(history.history.keys())"
   ]
  },
  {
   "cell_type": "code",
   "execution_count": 46,
   "metadata": {},
   "outputs": [
    {
     "data": {
      "image/png": "[encoded data removed]",
      "text/plain": [
       "<matplotlib.figure.Figure at 0x2a803ea9550>"
      ]
     },
     "metadata": {},
     "output_type": "display_data"
    }
   ],
   "source": [
    "plt.plot(history.history['acc'])\n",
    "plt.plot(history.history['val_acc'])\n",
    "plt.title('model accuracy')\n",
    "plt.ylabel('accuracy')\n",
    "plt.xlabel('epoch')\n",
    "plt.legend(['train', 'test'], loc='upper left')\n",
    "plt.show()"
   ]
  },
  {
   "cell_type": "code",
   "execution_count": 47,
   "metadata": {},
   "outputs": [
    {
     "data": {
      "image/png": "[encoded data removed]",
      "text/plain": [
       "<matplotlib.figure.Figure at 0x2a832200b38>"
      ]
     },
     "metadata": {},
     "output_type": "display_data"
    }
   ],
   "source": [
    "plt.plot(history.history['loss'])\n",
    "plt.plot(history.history['val_loss'])\n",
    "plt.title('model loss')\n",
    "plt.ylabel('loss')\n",
    "plt.xlabel('epoch')\n",
    "plt.legend(['train', 'test'], loc='upper left')\n",
    "plt.show()"
   ]
  },
  {
   "cell_type": "code",
   "execution_count": 49,
   "metadata": {
    "collapsed": true
   },
   "outputs": [],
   "source": [
    "\n"
   ]
  },
  {
   "cell_type": "code",
   "execution_count": 50,
   "metadata": {
    "collapsed": true
   },
   "outputs": [],
   "source": [
    "score = model.evaluate(X_test_uniform, yy_test_uniform, verbose=0)"
   ]
  },
  {
   "cell_type": "code",
   "execution_count": 51,
   "metadata": {},
   "outputs": [
    {
     "data": {
      "text/plain": [
       "['loss', 'acc']"
      ]
     },
     "execution_count": 51,
     "metadata": {},
     "output_type": "execute_result"
    }
   ],
   "source": [
    "model.metrics_names"
   ]
  },
  {
   "cell_type": "code",
   "execution_count": 52,
   "metadata": {},
   "outputs": [
    {
     "name": "stdout",
     "output_type": "stream",
     "text": [
      "[2.4962780263411437, 0.33507853465554605]\n"
     ]
    }
   ],
   "source": [
    "print(score) # with epoch 20, batch_size = 64 and dimension = 128 and uniform test result"
   ]
  },
  {
   "cell_type": "code",
   "execution_count": null,
   "metadata": {
    "collapsed": true
   },
   "outputs": [],
   "source": []
  },
  {
   "cell_type": "code",
   "execution_count": 55,
   "metadata": {
    "collapsed": true
   },
   "outputs": [],
   "source": [
    "\n"
   ]
  },
  {
   "cell_type": "code",
   "execution_count": 56,
   "metadata": {},
   "outputs": [
    {
     "name": "stdout",
     "output_type": "stream",
     "text": [
      "277/277 [==============================] - 12s    \n"
     ]
    }
   ],
   "source": [
    "score_complex = model.evaluate(X_test_complex, yy_test_complex, verbose=1)"
   ]
  },
  {
   "cell_type": "code",
   "execution_count": 57,
   "metadata": {},
   "outputs": [
    {
     "data": {
      "text/plain": [
       "['loss', 'acc']"
      ]
     },
     "execution_count": 57,
     "metadata": {},
     "output_type": "execute_result"
    }
   ],
   "source": [
    "model.metrics_names"
   ]
  },
  {
   "cell_type": "code",
   "execution_count": 58,
   "metadata": {},
   "outputs": [
    {
     "name": "stdout",
     "output_type": "stream",
     "text": [
      "[3.3228042323666789, 0.31768953143904788]\n"
     ]
    }
   ],
   "source": [
    "print(score_complex) # with epoch 20, batch_size = 64 and dimension = 128 and complex test result"
   ]
  },
  {
   "cell_type": "markdown",
   "metadata": {},
   "source": [
    "# Training model - max accuracy we got so far"
   ]
  },
  {
   "cell_type": "code",
   "execution_count": 8,
   "metadata": {},
   "outputs": [
    {
     "name": "stdout",
     "output_type": "stream",
     "text": [
      "Train on 4384 samples, validate on 488 samples\n",
      "Epoch 1/20\n",
      "4384/4384 [==============================] - 587s - loss: 1.8772 - acc: 0.3339 - val_loss: 1.8195 - val_acc: 0.3402\n",
      "Epoch 2/20\n",
      "4384/4384 [==============================] - 559s - loss: 1.7023 - acc: 0.4309 - val_loss: 1.6072 - val_acc: 0.4385\n",
      "Epoch 3/20\n",
      "4384/4384 [==============================] - 552s - loss: 1.5349 - acc: 0.5109 - val_loss: 1.5294 - val_acc: 0.4221\n",
      "Epoch 4/20\n",
      "4384/4384 [==============================] - 558s - loss: 1.3793 - acc: 0.5858 - val_loss: 1.1657 - val_acc: 0.7336\n",
      "Epoch 5/20\n",
      "4384/4384 [==============================] - 554s - loss: 1.2629 - acc: 0.6478 - val_loss: 1.3184 - val_acc: 0.6045\n",
      "Epoch 6/20\n",
      "4384/4384 [==============================] - 541s - loss: 1.1505 - acc: 0.6807 - val_loss: 1.0695 - val_acc: 0.7541\n",
      "Epoch 7/20\n",
      "4384/4384 [==============================] - 531s - loss: 1.0335 - acc: 0.7208 - val_loss: 0.9760 - val_acc: 0.7930\n",
      "Epoch 8/20\n",
      "4384/4384 [==============================] - 529s - loss: 0.9579 - acc: 0.7571 - val_loss: 0.8211 - val_acc: 0.8258\n",
      "Epoch 9/20\n",
      "4384/4384 [==============================] - 530s - loss: 0.9288 - acc: 0.7644 - val_loss: 0.8513 - val_acc: 0.7889\n",
      "Epoch 10/20\n",
      "4384/4384 [==============================] - 528s - loss: 0.8730 - acc: 0.7895 - val_loss: 0.7747 - val_acc: 0.8299\n",
      "Epoch 11/20\n",
      "4384/4384 [==============================] - 529s - loss: 0.8012 - acc: 0.8166 - val_loss: 0.8058 - val_acc: 0.7951\n",
      "Epoch 12/20\n",
      "4384/4384 [==============================] - 533s - loss: 0.7662 - acc: 0.8223 - val_loss: 0.9484 - val_acc: 0.7500\n",
      "Epoch 13/20\n",
      "4384/4384 [==============================] - 531s - loss: 0.7343 - acc: 0.8417 - val_loss: 0.7180 - val_acc: 0.8402\n",
      "Epoch 14/20\n",
      "4384/4384 [==============================] - 532s - loss: 0.6863 - acc: 0.8531 - val_loss: 0.7253 - val_acc: 0.8463\n",
      "Epoch 15/20\n",
      "4384/4384 [==============================] - 532s - loss: 0.6878 - acc: 0.8529 - val_loss: 0.6547 - val_acc: 0.8689\n",
      "Epoch 16/20\n",
      "4384/4384 [==============================] - 530s - loss: 0.7396 - acc: 0.8440 - val_loss: 1.2660 - val_acc: 0.6393\n",
      "Epoch 17/20\n",
      "4384/4384 [==============================] - 529s - loss: 0.6654 - acc: 0.8609 - val_loss: 0.9361 - val_acc: 0.7213\n",
      "Epoch 18/20\n",
      "4384/4384 [==============================] - 530s - loss: 0.6113 - acc: 0.8798 - val_loss: 0.6980 - val_acc: 0.8586\n",
      "Epoch 19/20\n",
      "4384/4384 [==============================] - 584s - loss: 0.6186 - acc: 0.8798 - val_loss: 0.6037 - val_acc: 0.8975\n",
      "Epoch 20/20\n",
      "4384/4384 [==============================] - 544s - loss: 0.5463 - acc: 0.9037 - val_loss: 0.5396 - val_acc: 0.9139\n"
     ]
    },
    {
     "data": {
      "text/plain": [
       "<keras.callbacks.History at 0x2a87f60a4a8>"
      ]
     },
     "execution_count": 8,
     "metadata": {},
     "output_type": "execute_result"
    }
   ],
   "source": [
    "model.fit(x_train, y_train,\n",
    "          batch_size=batch_size,\n",
    "          epochs=epochs,\n",
    "          verbose=1,\n",
    "          validation_data=(x_test, y_test))          # with epoch 20, batch_size = 64 and dimension = 128"
   ]
  },
  {
   "cell_type": "code",
   "execution_count": 28,
   "metadata": {},
   "outputs": [
    {
     "name": "stdout",
     "output_type": "stream",
     "text": [
      "Train on 4384 samples, validate on 488 samples\n",
      "Epoch 1/10\n",
      "4384/4384 [==============================] - 81s - loss: 1.9578 - acc: 0.2979 - val_loss: 1.9264 - val_acc: 0.3545\n",
      "Epoch 2/10\n",
      "4384/4384 [==============================] - 75s - loss: 1.9248 - acc: 0.3287 - val_loss: 1.9067 - val_acc: 0.3545\n",
      "Epoch 3/10\n",
      "4384/4384 [==============================] - 70s - loss: 1.9059 - acc: 0.3538 - val_loss: 1.8849 - val_acc: 0.3893\n",
      "Epoch 4/10\n",
      "4384/4384 [==============================] - 69s - loss: 1.8810 - acc: 0.3602 - val_loss: 1.8625 - val_acc: 0.3709\n",
      "Epoch 5/10\n",
      "4384/4384 [==============================] - 72s - loss: 1.8477 - acc: 0.3620 - val_loss: 1.8083 - val_acc: 0.3627\n",
      "Epoch 6/10\n",
      "4384/4384 [==============================] - 71s - loss: 1.8017 - acc: 0.3848 - val_loss: 1.7549 - val_acc: 0.4242\n",
      "Epoch 7/10\n",
      "4384/4384 [==============================] - 70s - loss: 1.7439 - acc: 0.4053 - val_loss: 1.7036 - val_acc: 0.4242\n",
      "Epoch 8/10\n",
      "4384/4384 [==============================] - 86s - loss: 1.6747 - acc: 0.4416 - val_loss: 1.6380 - val_acc: 0.4549\n",
      "Epoch 9/10\n",
      "4384/4384 [==============================] - 84s - loss: 1.6243 - acc: 0.4583 - val_loss: 1.6342 - val_acc: 0.4693\n",
      "Epoch 10/10\n",
      "4384/4384 [==============================] - 74s - loss: 1.6098 - acc: 0.4763 - val_loss: 1.8491 - val_acc: 0.3750\n"
     ]
    },
    {
     "data": {
      "text/plain": [
       "<keras.callbacks.History at 0x25650ac4780>"
      ]
     },
     "execution_count": 28,
     "metadata": {},
     "output_type": "execute_result"
    }
   ],
   "source": [
    "model.fit(x_train, y_train,\n",
    "          batch_size=batch_size,\n",
    "          epochs=epochs,\n",
    "          verbose=1,\n",
    "          validation_data=(x_test, y_test))           # with epoch 10 and batch_size = 128 and dimension = 50"
   ]
  },
  {
   "cell_type": "markdown",
   "metadata": {},
   "source": [
    "# Testing - 37.958% accuracy"
   ]
  },
  {
   "cell_type": "code",
   "execution_count": 14,
   "metadata": {},
   "outputs": [
    {
     "name": "stdout",
     "output_type": "stream",
     "text": [
      "[2.6271576020105969, 0.37958115191047731]\n"
     ]
    }
   ],
   "source": [
    "print(score)  # with epoch 20, batch_size = 64 and dimension = 128"
   ]
  },
  {
   "cell_type": "code",
   "execution_count": 26,
   "metadata": {},
   "outputs": [
    {
     "data": {
      "image/png": "[encoded data removed]",
      "text/plain": [
       "<matplotlib.figure.Figure at 0x2a832185b38>"
      ]
     },
     "metadata": {},
     "output_type": "display_data"
    },
    {
     "name": "stdout",
     "output_type": "stream",
     "text": [
      "[0 0 0 0 1 0] Point\n"
     ]
    }
   ],
   "source": [
    "k = np.random.choice(len(X_test_uniform))\n",
    "\n",
    "plt.imshow(X_test_uniform[k][:,:,0] , cmap='gray')\n",
    "\n",
    "image = X_test_uniform[k].reshape(1,height, width, 1)\n",
    "\n",
    "# our model guess for the label of the image\n",
    "label = model.predict_classes(image,verbose=False) # verbose give extra detail about how much it takes to calculate and all\n",
    "\n",
    "plt.title(label)\n",
    "plt.axis('off')\n",
    "plt.show()\n",
    "print(yy_test_uniform[k],y_test_uniform[k])"
   ]
  },
  {
   "cell_type": "code",
   "execution_count": 31,
   "metadata": {},
   "outputs": [
    {
     "data": {
      "text/plain": [
       "<keras.callbacks.Callback at 0x2a8321cb3c8>"
      ]
     },
     "execution_count": 31,
     "metadata": {},
     "output_type": "execute_result"
    }
   ],
   "source": [
    "keras.callbacks.Callback()"
   ]
  },
  {
   "cell_type": "code",
   "execution_count": 43,
   "metadata": {},
   "outputs": [
    {
     "data": {
      "text/plain": [
       "<keras.callbacks.History at 0x2a83222b780>"
      ]
     },
     "execution_count": 43,
     "metadata": {},
     "output_type": "execute_result"
    }
   ],
   "source": [
    "keras.callbacks.History()"
   ]
  },
  {
   "cell_type": "code",
   "execution_count": 45,
   "metadata": {},
   "outputs": [
    {
     "data": {
      "text/plain": [
       "<keras.callbacks.History at 0x2a87857f630>"
      ]
     },
     "execution_count": 45,
     "metadata": {},
     "output_type": "execute_result"
    }
   ],
   "source": [
    "history"
   ]
  },
  {
   "cell_type": "code",
   "execution_count": null,
   "metadata": {
    "collapsed": true
   },
   "outputs": [],
   "source": []
  }
 ],
 "metadata": {
  "kernelspec": {
   "display_name": "Python 3",
   "language": "python",
   "name": "python3"
  },
  "language_info": {
   "codemirror_mode": {
    "name": "ipython",
    "version": 3
   },
   "file_extension": ".py",
   "mimetype": "text/x-python",
   "name": "python",
   "nbconvert_exporter": "python",
   "pygments_lexer": "ipython3",
   "version": "3.6.3"
  }
 },
 "nbformat": 4,
 "nbformat_minor": 2
}
